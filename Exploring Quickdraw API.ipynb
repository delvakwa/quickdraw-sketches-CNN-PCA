{
 "cells": [
  {
   "cell_type": "markdown",
   "metadata": {},
   "source": [
    "# Exploring the Quickdraw API\n",
    "\n",
    "In this notebook we'll simply look at the quickdraw API and all the information it provides. Since I have already developed code to visualize the data [here](https://www.kaggle.com/kdelva/quickdraw-final-project-data-visualization), I won't do that in this notebook."
   ]
  },
  {
   "cell_type": "code",
   "execution_count": 38,
   "metadata": {},
   "outputs": [],
   "source": [
    "# !pip install quickdraw"
   ]
  },
  {
   "cell_type": "code",
   "execution_count": 4,
   "metadata": {},
   "outputs": [],
   "source": [
    "%matplotlib inline\n",
    "import numpy as np # linear algebra\n",
    "import pandas as pd # data processing, CSV file I/O (e.g. pd.read_csv)\n",
    "import os\n",
    "import json\n",
    "import matplotlib.pyplot as plt\n",
    "from matplotlib import cm\n",
    "from collections import OrderedDict\n",
    "import seaborn as sns\n",
    "import quickdraw\n",
    "from quickdraw import QuickDrawData\n",
    "from quickdraw import QuickDrawDataGroup\n",
    "from PIL import Image, ImageDraw"
   ]
  },
  {
   "cell_type": "code",
   "execution_count": 5,
   "metadata": {},
   "outputs": [],
   "source": [
    "cmaps = OrderedDict()"
   ]
  },
  {
   "cell_type": "markdown",
   "metadata": {},
   "source": [
    "The first thing we'll do is see all of the categories of drawings we could work with. "
   ]
  },
  {
   "cell_type": "code",
   "execution_count": 7,
   "metadata": {
    "scrolled": true
   },
   "outputs": [
    {
     "data": {
      "text/plain": [
       "['aircraft carrier', 'airplane', 'alarm clock', 'ambulance', 'angel']"
      ]
     },
     "execution_count": 7,
     "metadata": {},
     "output_type": "execute_result"
    }
   ],
   "source": [
    "qd = QuickDrawData()\n",
    "qd.drawing_names[:5]"
   ]
  },
  {
   "cell_type": "markdown",
   "metadata": {},
   "source": [
    "The next cell searches through the quickdraw dataset that we downloaded and pulls the data for an anvil. "
   ]
  },
  {
   "cell_type": "code",
   "execution_count": 8,
   "metadata": {},
   "outputs": [
    {
     "name": "stdout",
     "output_type": "stream",
     "text": [
      "loading anvil drawings\n",
      "load complete\n",
      "QuickDrawing key_id=5113935726379008\n"
     ]
    }
   ],
   "source": [
    "anvil = qd.get_drawing(\"anvil\")\n",
    "print(anvil)  #key_id for anvil"
   ]
  },
  {
   "cell_type": "code",
   "execution_count": 9,
   "metadata": {
    "scrolled": false
   },
   "outputs": [
    {
     "name": "stdout",
     "output_type": "stream",
     "text": [
      "[[(98, 9), (113, 1)], [(118, 2), (111, 0), (45, 13), (13, 31), (2, 41), (0, 48), (44, 55), (90, 58), (87, 107), (82, 113), (61, 122), (51, 134), (50, 142), (57, 147), (113, 152), (187, 146), (192, 139), (186, 131), (150, 113), (147, 105), (146, 89), (152, 55), (231, 62), (255, 59), (255, 51), (235, 32), (205, 19), (143, 7), (101, 3), (94, 4), (93, 14)]]\n"
     ]
    }
   ],
   "source": [
    "print(anvil.strokes)  #X and Y coordinate strokes used to make anvil"
   ]
  },
  {
   "cell_type": "code",
   "execution_count": 37,
   "metadata": {
    "scrolled": false
   },
   "outputs": [
    {
     "data": {
      "image/png": "[encoded data removed]",
      "text/plain": [
       "<PIL.Image.Image image mode=RGB size=255x255 at 0x2B08742E128>"
      ]
     },
     "execution_count": 37,
     "metadata": {},
     "output_type": "execute_result"
    }
   ],
   "source": [
    "#Show image\n",
    "anvil.get_image()"
   ]
  },
  {
   "cell_type": "code",
   "execution_count": 6,
   "metadata": {},
   "outputs": [],
   "source": [
    "#Saves image to disk\n",
    "anvil.image.save(\"my_anvil.gif\")"
   ]
  },
  {
   "cell_type": "markdown",
   "metadata": {},
   "source": [
    "This creates a dataframe where each row is a stroke used to craft an image. This is implied because each row has the same key id associated with it. "
   ]
  },
  {
   "cell_type": "code",
   "execution_count": 50,
   "metadata": {
    "scrolled": true
   },
   "outputs": [
    {
     "data": {
      "text/html": [
       "<div>\n",
       "<style scoped>\n",
       "    .dataframe tbody tr th:only-of-type {\n",
       "        vertical-align: middle;\n",
       "    }\n",
       "\n",
       "    .dataframe tbody tr th {\n",
       "        vertical-align: top;\n",
       "    }\n",
       "\n",
       "    .dataframe thead th {\n",
       "        text-align: right;\n",
       "    }\n",
       "</style>\n",
       "<table border=\"1\" class=\"dataframe\">\n",
       "  <thead>\n",
       "    <tr style=\"text-align: right;\">\n",
       "      <th></th>\n",
       "      <th>word</th>\n",
       "      <th>key_id</th>\n",
       "      <th>recognized</th>\n",
       "      <th>stroke</th>\n",
       "      <th>num_of_strokes</th>\n",
       "      <th>countrycode</th>\n",
       "    </tr>\n",
       "  </thead>\n",
       "  <tbody>\n",
       "    <tr>\n",
       "      <th>0</th>\n",
       "      <td>anvil</td>\n",
       "      <td>5088634812235776</td>\n",
       "      <td>True</td>\n",
       "      <td>[(23, 18), (28, 15), (68, 14), (115, 9), (171,...</td>\n",
       "      <td>4</td>\n",
       "      <td>US</td>\n",
       "    </tr>\n",
       "    <tr>\n",
       "      <th>1</th>\n",
       "      <td>anvil</td>\n",
       "      <td>5088634812235776</td>\n",
       "      <td>True</td>\n",
       "      <td>[(31, 15), (21, 15), (12, 25), (8, 37), (9, 51...</td>\n",
       "      <td>4</td>\n",
       "      <td>US</td>\n",
       "    </tr>\n",
       "    <tr>\n",
       "      <th>2</th>\n",
       "      <td>anvil</td>\n",
       "      <td>5088634812235776</td>\n",
       "      <td>True</td>\n",
       "      <td>[(175, 58), (169, 143)]</td>\n",
       "      <td>4</td>\n",
       "      <td>US</td>\n",
       "    </tr>\n",
       "    <tr>\n",
       "      <th>3</th>\n",
       "      <td>anvil</td>\n",
       "      <td>5088634812235776</td>\n",
       "      <td>True</td>\n",
       "      <td>[(108, 145), (50, 135), (28, 134), (9, 149), (...</td>\n",
       "      <td>4</td>\n",
       "      <td>US</td>\n",
       "    </tr>\n",
       "  </tbody>\n",
       "</table>\n",
       "</div>"
      ],
      "text/plain": [
       "    word            key_id  recognized  \\\n",
       "0  anvil  5088634812235776        True   \n",
       "1  anvil  5088634812235776        True   \n",
       "2  anvil  5088634812235776        True   \n",
       "3  anvil  5088634812235776        True   \n",
       "\n",
       "                                              stroke  num_of_strokes  \\\n",
       "0  [(23, 18), (28, 15), (68, 14), (115, 9), (171,...               4   \n",
       "1  [(31, 15), (21, 15), (12, 25), (8, 37), (9, 51...               4   \n",
       "2                            [(175, 58), (169, 143)]               4   \n",
       "3  [(108, 145), (50, 135), (28, 134), (9, 149), (...               4   \n",
       "\n",
       "  countrycode  \n",
       "0          US  \n",
       "1          US  \n",
       "2          US  \n",
       "3          US  "
      ]
     },
     "execution_count": 50,
     "metadata": {},
     "output_type": "execute_result"
    }
   ],
   "source": [
    "image_df = pd.DataFrame({\n",
    "    'word': anvil.name,\n",
    "    'key_id': anvil.key_id,\n",
    "    'recognized': anvil.recognized,\n",
    "    'stroke': anvil.strokes,\n",
    "    'num_of_strokes': anvil.no_of_strokes,\n",
    "    'countrycode': anvil.countrycode\n",
    "    \n",
    "})\n",
    "\n",
    "image_df"
   ]
  },
  {
   "cell_type": "markdown",
   "metadata": {},
   "source": [
    "Loads 1000 anvil images from API"
   ]
  },
  {
   "cell_type": "code",
   "execution_count": 13,
   "metadata": {},
   "outputs": [
    {
     "name": "stdout",
     "output_type": "stream",
     "text": [
      "loading anvil drawings\n",
      "load complete\n",
      "10000\n",
      "QuickDrawing key_id=4979893995569152\n"
     ]
    }
   ],
   "source": [
    "anvils = QuickDrawDataGroup(\"anvil\")\n",
    "print(anvils.drawing_count)\n",
    "print(anvils.get_drawing())"
   ]
  },
  {
   "cell_type": "code",
   "execution_count": null,
   "metadata": {},
   "outputs": [],
   "source": [
    "Loads 1000 ant images from API"
   ]
  },
  {
   "cell_type": "code",
   "execution_count": 12,
   "metadata": {},
   "outputs": [
    {
     "name": "stdout",
     "output_type": "stream",
     "text": [
      "downloading ant from https://storage.googleapis.com/quickdraw_dataset/full/binary/ant.bin\n",
      "download complete\n",
      "loading ant drawings\n",
      "load complete\n"
     ]
    }
   ],
   "source": [
    "ants = QuickDrawDataGroup(\"ant\")\n",
    "print(ants.drawing_count)\n",
    "print(ants.get_drawing())"
   ]
  }
 ],
 "metadata": {
  "kernelspec": {
   "display_name": "Python 3",
   "language": "python",
   "name": "python3"
  },
  "language_info": {
   "codemirror_mode": {
    "name": "ipython",
    "version": 3
   },
   "file_extension": ".py",
   "mimetype": "text/x-python",
   "name": "python",
   "nbconvert_exporter": "python",
   "pygments_lexer": "ipython3",
   "version": "3.7.3"
  }
 },
 "nbformat": 4,
 "nbformat_minor": 2
}
